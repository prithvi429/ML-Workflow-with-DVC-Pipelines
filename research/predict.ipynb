{
 "cells": [
  {
   "cell_type": "code",
   "execution_count": 1,
   "id": "5dd21764",
   "metadata": {},
   "outputs": [
    {
     "name": "stdout",
     "output_type": "stream",
     "text": [
      "c:\\Users\\DELL\\anaconda3\\envs\\env_test\\python.exe\n"
     ]
    }
   ],
   "source": [
    "import numpy as np\n",
    "from tensorflow.keras.models import load_model\n",
    "from tensorflow.keras.preprocessing import image\n",
    "import os\n",
    "\n",
    "import sys\n",
    "print(sys.executable)\n",
    "\n"
   ]
  },
  {
   "cell_type": "code",
   "execution_count": 5,
   "id": "f459040c",
   "metadata": {},
   "outputs": [],
   "source": [
    "class PredictionPipeline:\n",
    "    def __init__(self, filename):\n",
    "        # Absolute path to the input image\n",
    "        self.filename = os.path.abspath(filename)\n",
    "        # Determine project root (two levels up from this file)\n",
    "        this_file = os.path.abspath(__file__)\n",
    "        project_root = os.path.dirname(os.path.dirname(this_file))\n",
    "        # Build the absolute path to model.h5 under artifacts/training\n",
    "        self.model_path = os.path.join(project_root, \"artifacts\", \"training\", \"model.h5\")\n",
    "\n",
    "    def predict(self):\n",
    "        try:\n",
    "            print(f\"Loading model from: {self.model_path!r}\")\n",
    "            if not os.path.exists(self.model_path):\n",
    "                raise FileNotFoundError(f\"Model file not found at {self.model_path}\")\n",
    "            model = load_model(self.model_path)\n",
    "            print(\"✅ Model loaded successfully\")\n",
    "\n",
    "            print(f\"Loading image from: {self.filename!r}\")\n",
    "            if not os.path.exists(self.filename):\n",
    "                raise FileNotFoundError(f\"Image file not found at {self.filename}\")\n",
    "            img = image.load_img(self.filename, target_size=(224, 224))\n",
    "            x   = image.img_to_array(img)\n",
    "            x   = np.expand_dims(x, axis=0)\n",
    "\n",
    "            preds = model.predict(x)\n",
    "            idx   = np.argmax(preds, axis=1)[0]\n",
    "            print(\"Raw model output:\", preds, \"→ class index:\", idx)\n",
    "\n",
    "            label = 'Healthy' if idx == 1 else 'Coccidiosis'\n",
    "            return [{ \"image\": label }]\n",
    "\n",
    "        except Exception as e:\n",
    "            print(\"❌ Prediction error:\", e)\n",
    "            return [{ \"error\": str(e) }]\n",
    "\n",
    "# Example standalone usage:\n"
   ]
  }
 ],
 "metadata": {
  "kernelspec": {
   "display_name": "env_test",
   "language": "python",
   "name": "python3"
  },
  "language_info": {
   "codemirror_mode": {
    "name": "ipython",
    "version": 3
   },
   "file_extension": ".py",
   "mimetype": "text/x-python",
   "name": "python",
   "nbconvert_exporter": "python",
   "pygments_lexer": "ipython3",
   "version": "3.10.18"
  }
 },
 "nbformat": 4,
 "nbformat_minor": 5
}
